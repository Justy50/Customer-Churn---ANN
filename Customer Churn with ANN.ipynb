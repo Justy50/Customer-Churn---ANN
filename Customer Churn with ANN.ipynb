{
 "cells": [
  {
   "cell_type": "markdown",
   "metadata": {},
   "source": [
    "# Artificial Neural Network - Customer Churn"
   ]
  },
  {
   "cell_type": "code",
   "execution_count": 1,
   "metadata": {
    "collapsed": true
   },
   "outputs": [
    {
     "name": "stderr",
     "output_type": "stream",
     "text": [
      "C:\\ProgramData\\Anaconda3\\lib\\site-packages\\tensorflow\\python\\framework\\dtypes.py:516: FutureWarning: Passing (type, 1) or '1type' as a synonym of type is deprecated; in a future version of numpy, it will be understood as (type, (1,)) / '(1,)type'.\n",
      "  _np_qint8 = np.dtype([(\"qint8\", np.int8, 1)])\n",
      "C:\\ProgramData\\Anaconda3\\lib\\site-packages\\tensorflow\\python\\framework\\dtypes.py:517: FutureWarning: Passing (type, 1) or '1type' as a synonym of type is deprecated; in a future version of numpy, it will be understood as (type, (1,)) / '(1,)type'.\n",
      "  _np_quint8 = np.dtype([(\"quint8\", np.uint8, 1)])\n",
      "C:\\ProgramData\\Anaconda3\\lib\\site-packages\\tensorflow\\python\\framework\\dtypes.py:518: FutureWarning: Passing (type, 1) or '1type' as a synonym of type is deprecated; in a future version of numpy, it will be understood as (type, (1,)) / '(1,)type'.\n",
      "  _np_qint16 = np.dtype([(\"qint16\", np.int16, 1)])\n",
      "C:\\ProgramData\\Anaconda3\\lib\\site-packages\\tensorflow\\python\\framework\\dtypes.py:519: FutureWarning: Passing (type, 1) or '1type' as a synonym of type is deprecated; in a future version of numpy, it will be understood as (type, (1,)) / '(1,)type'.\n",
      "  _np_quint16 = np.dtype([(\"quint16\", np.uint16, 1)])\n",
      "C:\\ProgramData\\Anaconda3\\lib\\site-packages\\tensorflow\\python\\framework\\dtypes.py:520: FutureWarning: Passing (type, 1) or '1type' as a synonym of type is deprecated; in a future version of numpy, it will be understood as (type, (1,)) / '(1,)type'.\n",
      "  _np_qint32 = np.dtype([(\"qint32\", np.int32, 1)])\n",
      "C:\\ProgramData\\Anaconda3\\lib\\site-packages\\tensorflow\\python\\framework\\dtypes.py:525: FutureWarning: Passing (type, 1) or '1type' as a synonym of type is deprecated; in a future version of numpy, it will be understood as (type, (1,)) / '(1,)type'.\n",
      "  np_resource = np.dtype([(\"resource\", np.ubyte, 1)])\n",
      "C:\\ProgramData\\Anaconda3\\lib\\site-packages\\tensorboard\\compat\\tensorflow_stub\\dtypes.py:541: FutureWarning: Passing (type, 1) or '1type' as a synonym of type is deprecated; in a future version of numpy, it will be understood as (type, (1,)) / '(1,)type'.\n",
      "  _np_qint8 = np.dtype([(\"qint8\", np.int8, 1)])\n",
      "C:\\ProgramData\\Anaconda3\\lib\\site-packages\\tensorboard\\compat\\tensorflow_stub\\dtypes.py:542: FutureWarning: Passing (type, 1) or '1type' as a synonym of type is deprecated; in a future version of numpy, it will be understood as (type, (1,)) / '(1,)type'.\n",
      "  _np_quint8 = np.dtype([(\"quint8\", np.uint8, 1)])\n",
      "C:\\ProgramData\\Anaconda3\\lib\\site-packages\\tensorboard\\compat\\tensorflow_stub\\dtypes.py:543: FutureWarning: Passing (type, 1) or '1type' as a synonym of type is deprecated; in a future version of numpy, it will be understood as (type, (1,)) / '(1,)type'.\n",
      "  _np_qint16 = np.dtype([(\"qint16\", np.int16, 1)])\n",
      "C:\\ProgramData\\Anaconda3\\lib\\site-packages\\tensorboard\\compat\\tensorflow_stub\\dtypes.py:544: FutureWarning: Passing (type, 1) or '1type' as a synonym of type is deprecated; in a future version of numpy, it will be understood as (type, (1,)) / '(1,)type'.\n",
      "  _np_quint16 = np.dtype([(\"quint16\", np.uint16, 1)])\n",
      "C:\\ProgramData\\Anaconda3\\lib\\site-packages\\tensorboard\\compat\\tensorflow_stub\\dtypes.py:545: FutureWarning: Passing (type, 1) or '1type' as a synonym of type is deprecated; in a future version of numpy, it will be understood as (type, (1,)) / '(1,)type'.\n",
      "  _np_qint32 = np.dtype([(\"qint32\", np.int32, 1)])\n",
      "C:\\ProgramData\\Anaconda3\\lib\\site-packages\\tensorboard\\compat\\tensorflow_stub\\dtypes.py:550: FutureWarning: Passing (type, 1) or '1type' as a synonym of type is deprecated; in a future version of numpy, it will be understood as (type, (1,)) / '(1,)type'.\n",
      "  np_resource = np.dtype([(\"resource\", np.ubyte, 1)])\n"
     ]
    }
   ],
   "source": [
    "# Importing Libraries\n",
    "import numpy as np\n",
    "import pandas as pd\n",
    "import matplotlib.pyplot as plt\n",
    "import seaborn as sns\n",
    "import tensorflow as tf"
   ]
  },
  {
   "cell_type": "code",
   "execution_count": 2,
   "metadata": {},
   "outputs": [],
   "source": [
    "# Reading the data\n",
    "dataset = pd.read_csv('Churn_Modelling.csv')"
   ]
  },
  {
   "cell_type": "code",
   "execution_count": 3,
   "metadata": {},
   "outputs": [
    {
     "data": {
      "text/html": [
       "<div>\n",
       "<style scoped>\n",
       "    .dataframe tbody tr th:only-of-type {\n",
       "        vertical-align: middle;\n",
       "    }\n",
       "\n",
       "    .dataframe tbody tr th {\n",
       "        vertical-align: top;\n",
       "    }\n",
       "\n",
       "    .dataframe thead th {\n",
       "        text-align: right;\n",
       "    }\n",
       "</style>\n",
       "<table border=\"1\" class=\"dataframe\">\n",
       "  <thead>\n",
       "    <tr style=\"text-align: right;\">\n",
       "      <th></th>\n",
       "      <th>RowNumber</th>\n",
       "      <th>CustomerId</th>\n",
       "      <th>Surname</th>\n",
       "      <th>CreditScore</th>\n",
       "      <th>Geography</th>\n",
       "      <th>Gender</th>\n",
       "      <th>Age</th>\n",
       "      <th>Tenure</th>\n",
       "      <th>Balance</th>\n",
       "      <th>NumOfProducts</th>\n",
       "      <th>HasCrCard</th>\n",
       "      <th>IsActiveMember</th>\n",
       "      <th>EstimatedSalary</th>\n",
       "      <th>Exited</th>\n",
       "    </tr>\n",
       "  </thead>\n",
       "  <tbody>\n",
       "    <tr>\n",
       "      <th>0</th>\n",
       "      <td>1</td>\n",
       "      <td>15634602</td>\n",
       "      <td>Hargrave</td>\n",
       "      <td>619</td>\n",
       "      <td>France</td>\n",
       "      <td>Female</td>\n",
       "      <td>42</td>\n",
       "      <td>2</td>\n",
       "      <td>0.00</td>\n",
       "      <td>1</td>\n",
       "      <td>1</td>\n",
       "      <td>1</td>\n",
       "      <td>101348.88</td>\n",
       "      <td>1</td>\n",
       "    </tr>\n",
       "    <tr>\n",
       "      <th>1</th>\n",
       "      <td>2</td>\n",
       "      <td>15647311</td>\n",
       "      <td>Hill</td>\n",
       "      <td>608</td>\n",
       "      <td>Spain</td>\n",
       "      <td>Female</td>\n",
       "      <td>41</td>\n",
       "      <td>1</td>\n",
       "      <td>83807.86</td>\n",
       "      <td>1</td>\n",
       "      <td>0</td>\n",
       "      <td>1</td>\n",
       "      <td>112542.58</td>\n",
       "      <td>0</td>\n",
       "    </tr>\n",
       "    <tr>\n",
       "      <th>2</th>\n",
       "      <td>3</td>\n",
       "      <td>15619304</td>\n",
       "      <td>Onio</td>\n",
       "      <td>502</td>\n",
       "      <td>France</td>\n",
       "      <td>Female</td>\n",
       "      <td>42</td>\n",
       "      <td>8</td>\n",
       "      <td>159660.80</td>\n",
       "      <td>3</td>\n",
       "      <td>1</td>\n",
       "      <td>0</td>\n",
       "      <td>113931.57</td>\n",
       "      <td>1</td>\n",
       "    </tr>\n",
       "    <tr>\n",
       "      <th>3</th>\n",
       "      <td>4</td>\n",
       "      <td>15701354</td>\n",
       "      <td>Boni</td>\n",
       "      <td>699</td>\n",
       "      <td>France</td>\n",
       "      <td>Female</td>\n",
       "      <td>39</td>\n",
       "      <td>1</td>\n",
       "      <td>0.00</td>\n",
       "      <td>2</td>\n",
       "      <td>0</td>\n",
       "      <td>0</td>\n",
       "      <td>93826.63</td>\n",
       "      <td>0</td>\n",
       "    </tr>\n",
       "    <tr>\n",
       "      <th>4</th>\n",
       "      <td>5</td>\n",
       "      <td>15737888</td>\n",
       "      <td>Mitchell</td>\n",
       "      <td>850</td>\n",
       "      <td>Spain</td>\n",
       "      <td>Female</td>\n",
       "      <td>43</td>\n",
       "      <td>2</td>\n",
       "      <td>125510.82</td>\n",
       "      <td>1</td>\n",
       "      <td>1</td>\n",
       "      <td>1</td>\n",
       "      <td>79084.10</td>\n",
       "      <td>0</td>\n",
       "    </tr>\n",
       "  </tbody>\n",
       "</table>\n",
       "</div>"
      ],
      "text/plain": [
       "   RowNumber  CustomerId   Surname  CreditScore Geography  Gender  Age  \\\n",
       "0          1    15634602  Hargrave          619    France  Female   42   \n",
       "1          2    15647311      Hill          608     Spain  Female   41   \n",
       "2          3    15619304      Onio          502    France  Female   42   \n",
       "3          4    15701354      Boni          699    France  Female   39   \n",
       "4          5    15737888  Mitchell          850     Spain  Female   43   \n",
       "\n",
       "   Tenure    Balance  NumOfProducts  HasCrCard  IsActiveMember  \\\n",
       "0       2       0.00              1          1               1   \n",
       "1       1   83807.86              1          0               1   \n",
       "2       8  159660.80              3          1               0   \n",
       "3       1       0.00              2          0               0   \n",
       "4       2  125510.82              1          1               1   \n",
       "\n",
       "   EstimatedSalary  Exited  \n",
       "0        101348.88       1  \n",
       "1        112542.58       0  \n",
       "2        113931.57       1  \n",
       "3         93826.63       0  \n",
       "4         79084.10       0  "
      ]
     },
     "execution_count": 3,
     "metadata": {},
     "output_type": "execute_result"
    }
   ],
   "source": [
    "dataset.head()"
   ]
  },
  {
   "cell_type": "code",
   "execution_count": 4,
   "metadata": {},
   "outputs": [],
   "source": [
    "# Splitting the dataset into X and Y\n",
    "X = dataset.iloc[:, 3:-1].values\n",
    "y = dataset.iloc[:, -1].values"
   ]
  },
  {
   "cell_type": "code",
   "execution_count": 5,
   "metadata": {},
   "outputs": [
    {
     "name": "stdout",
     "output_type": "stream",
     "text": [
      "[[619 'France' 'Female' ... 1 1 101348.88]\n",
      " [608 'Spain' 'Female' ... 0 1 112542.58]\n",
      " [502 'France' 'Female' ... 1 0 113931.57]\n",
      " ...\n",
      " [709 'France' 'Female' ... 0 1 42085.58]\n",
      " [772 'Germany' 'Male' ... 1 0 92888.52]\n",
      " [792 'France' 'Female' ... 1 0 38190.78]]\n"
     ]
    }
   ],
   "source": [
    "print(X)"
   ]
  },
  {
   "cell_type": "code",
   "execution_count": 6,
   "metadata": {},
   "outputs": [
    {
     "name": "stdout",
     "output_type": "stream",
     "text": [
      "[1 0 1 ... 1 1 0]\n"
     ]
    }
   ],
   "source": [
    "print(y)"
   ]
  },
  {
   "cell_type": "code",
   "execution_count": 7,
   "metadata": {},
   "outputs": [
    {
     "data": {
      "text/plain": [
       "France     5014\n",
       "Germany    2509\n",
       "Spain      2477\n",
       "Name: Geography, dtype: int64"
      ]
     },
     "execution_count": 7,
     "metadata": {},
     "output_type": "execute_result"
    }
   ],
   "source": [
    "dataset['Geography'].value_counts()"
   ]
  },
  {
   "cell_type": "code",
   "execution_count": 8,
   "metadata": {},
   "outputs": [],
   "source": [
    "# Using Label Encoder for Gender data\n",
    "from sklearn.preprocessing import LabelEncoder\n",
    "le = LabelEncoder()\n",
    "X[:, 2] = le.fit_transform(X[:,2])"
   ]
  },
  {
   "cell_type": "code",
   "execution_count": 9,
   "metadata": {},
   "outputs": [
    {
     "name": "stdout",
     "output_type": "stream",
     "text": [
      "[[619 'France' 0 ... 1 1 101348.88]\n",
      " [608 'Spain' 0 ... 0 1 112542.58]\n",
      " [502 'France' 0 ... 1 0 113931.57]\n",
      " ...\n",
      " [709 'France' 0 ... 0 1 42085.58]\n",
      " [772 'Germany' 1 ... 1 0 92888.52]\n",
      " [792 'France' 0 ... 1 0 38190.78]]\n"
     ]
    }
   ],
   "source": [
    "print(X)"
   ]
  },
  {
   "cell_type": "code",
   "execution_count": 10,
   "metadata": {},
   "outputs": [],
   "source": [
    "# One Hot Encoding for Geography data\n",
    "from sklearn.compose import ColumnTransformer\n",
    "from sklearn.preprocessing import OneHotEncoder\n",
    "ct = ColumnTransformer(transformers = [('encoder', OneHotEncoder(), [1])], remainder = 'passthrough')\n",
    "X = np.array(ct.fit_transform(X))"
   ]
  },
  {
   "cell_type": "code",
   "execution_count": 11,
   "metadata": {},
   "outputs": [
    {
     "name": "stdout",
     "output_type": "stream",
     "text": [
      "[[1.0 0.0 0.0 ... 1 1 101348.88]\n",
      " [0.0 0.0 1.0 ... 0 1 112542.58]\n",
      " [1.0 0.0 0.0 ... 1 0 113931.57]\n",
      " ...\n",
      " [1.0 0.0 0.0 ... 0 1 42085.58]\n",
      " [0.0 1.0 0.0 ... 1 0 92888.52]\n",
      " [1.0 0.0 0.0 ... 1 0 38190.78]]\n"
     ]
    }
   ],
   "source": [
    "print(X)"
   ]
  },
  {
   "cell_type": "code",
   "execution_count": 12,
   "metadata": {},
   "outputs": [],
   "source": [
    "# Splitting the data into Training & Testing\n",
    "from sklearn.model_selection import train_test_split\n",
    "X_train, X_test, y_train, y_test = train_test_split(X, y, test_size = 0.2, random_state = 0)"
   ]
  },
  {
   "cell_type": "code",
   "execution_count": 13,
   "metadata": {},
   "outputs": [],
   "source": [
    "# It is important to feature scale any deep learning model.\n",
    "# Applying feature_scaling to our model.\n",
    "from sklearn.preprocessing import StandardScaler\n",
    "scalar = StandardScaler()\n",
    "X_train = scalar.fit_transform(X_train)\n",
    "X_test = scalar.fit_transform(X_test)"
   ]
  },
  {
   "cell_type": "markdown",
   "metadata": {},
   "source": [
    "#### BUILDING AN ARTIFICIAL BRAIN"
   ]
  },
  {
   "cell_type": "code",
   "execution_count": 14,
   "metadata": {},
   "outputs": [],
   "source": [
    "# Building the ANN\n",
    "ann = tf.keras.models.Sequential()"
   ]
  },
  {
   "cell_type": "code",
   "execution_count": 15,
   "metadata": {},
   "outputs": [],
   "source": [
    "# Adding the input layer and the first hidden layer\n",
    "ann.add(tf.keras.layers.Dense(units = 6, activation = 'relu'))"
   ]
  },
  {
   "cell_type": "code",
   "execution_count": 16,
   "metadata": {},
   "outputs": [],
   "source": [
    "# Adding the second hidden layer\n",
    "ann.add(tf.keras.layers.Dense(units = 6, activation = 'relu'))"
   ]
  },
  {
   "cell_type": "code",
   "execution_count": 17,
   "metadata": {},
   "outputs": [],
   "source": [
    "# Adding the output layer\n",
    "ann.add(tf.keras.layers.Dense(units = 1, activation = 'sigmoid'))\n",
    "# For three classes, activation func will be 'softmax'"
   ]
  },
  {
   "cell_type": "markdown",
   "metadata": {},
   "source": [
    "#### TRAINING THE ANN"
   ]
  },
  {
   "cell_type": "code",
   "execution_count": 18,
   "metadata": {},
   "outputs": [],
   "source": [
    "# For binary class, loss func is always 'binary_crossentropy'\n",
    "# For three classes, loss func is always 'categorical_crossentropy'"
   ]
  },
  {
   "cell_type": "code",
   "execution_count": 19,
   "metadata": {},
   "outputs": [],
   "source": [
    "ann.compile(optimizer = 'adam', loss = 'binary_crossentropy', metrics = ['accuracy'])"
   ]
  },
  {
   "cell_type": "code",
   "execution_count": 20,
   "metadata": {
    "scrolled": true
   },
   "outputs": [
    {
     "name": "stdout",
     "output_type": "stream",
     "text": [
      "WARNING:tensorflow:From C:\\ProgramData\\Anaconda3\\lib\\site-packages\\tensorflow\\python\\ops\\math_grad.py:1250: add_dispatch_support.<locals>.wrapper (from tensorflow.python.ops.array_ops) is deprecated and will be removed in a future version.\n",
      "Instructions for updating:\n",
      "Use tf.where in 2.0, which has the same broadcast rule as np.where\n",
      "Train on 8000 samples\n",
      "Epoch 1/100\n",
      "8000/8000 [==============================] - 1s 146us/sample - loss: 0.5532 - accuracy: 0.7960\n",
      "Epoch 2/100\n",
      "8000/8000 [==============================] - 1s 82us/sample - loss: 0.4853 - accuracy: 0.7960\n",
      "Epoch 3/100\n",
      "8000/8000 [==============================] - 1s 75us/sample - loss: 0.4615 - accuracy: 0.7960\n",
      "Epoch 4/100\n",
      "8000/8000 [==============================] - 1s 82us/sample - loss: 0.4477 - accuracy: 0.7960\n",
      "Epoch 5/100\n",
      "8000/8000 [==============================] - 1s 67us/sample - loss: 0.4381 - accuracy: 0.7960\n",
      "Epoch 6/100\n",
      "8000/8000 [==============================] - 1s 74us/sample - loss: 0.4318 - accuracy: 0.7960\n",
      "Epoch 7/100\n",
      "8000/8000 [==============================] - 1s 67us/sample - loss: 0.4269 - accuracy: 0.7960\n",
      "Epoch 8/100\n",
      "8000/8000 [==============================] - 1s 73us/sample - loss: 0.4224 - accuracy: 0.7960\n",
      "Epoch 9/100\n",
      "8000/8000 [==============================] - 1s 67us/sample - loss: 0.4183 - accuracy: 0.7960\n",
      "Epoch 10/100\n",
      "8000/8000 [==============================] - 1s 71us/sample - loss: 0.4146 - accuracy: 0.8133\n",
      "Epoch 11/100\n",
      "8000/8000 [==============================] - 1s 66us/sample - loss: 0.4093 - accuracy: 0.8248\n",
      "Epoch 12/100\n",
      "8000/8000 [==============================] - 1s 74us/sample - loss: 0.3979 - accuracy: 0.8319\n",
      "Epoch 13/100\n",
      "8000/8000 [==============================] - 1s 66us/sample - loss: 0.3879 - accuracy: 0.8381\n",
      "Epoch 14/100\n",
      "8000/8000 [==============================] - 1s 71us/sample - loss: 0.3796 - accuracy: 0.8414\n",
      "Epoch 15/100\n",
      "8000/8000 [==============================] - 1s 73us/sample - loss: 0.3718 - accuracy: 0.8460\n",
      "Epoch 16/100\n",
      "8000/8000 [==============================] - 1s 72us/sample - loss: 0.3643 - accuracy: 0.8503\n",
      "Epoch 17/100\n",
      "8000/8000 [==============================] - 1s 78us/sample - loss: 0.3580 - accuracy: 0.8541\n",
      "Epoch 18/100\n",
      "8000/8000 [==============================] - 1s 82us/sample - loss: 0.3532 - accuracy: 0.8555\n",
      "Epoch 19/100\n",
      "8000/8000 [==============================] - 1s 70us/sample - loss: 0.3495 - accuracy: 0.8572\n",
      "Epoch 20/100\n",
      "8000/8000 [==============================] - 1s 78us/sample - loss: 0.3468 - accuracy: 0.8596\n",
      "Epoch 21/100\n",
      "8000/8000 [==============================] - 1s 66us/sample - loss: 0.3453 - accuracy: 0.8587\n",
      "Epoch 22/100\n",
      "8000/8000 [==============================] - 1s 73us/sample - loss: 0.3433 - accuracy: 0.8609\n",
      "Epoch 23/100\n",
      "8000/8000 [==============================] - 1s 67us/sample - loss: 0.3427 - accuracy: 0.8601s - loss: 0.358\n",
      "Epoch 24/100\n",
      "8000/8000 [==============================] - 1s 76us/sample - loss: 0.3418 - accuracy: 0.8594\n",
      "Epoch 25/100\n",
      "8000/8000 [==============================] - 1s 68us/sample - loss: 0.3414 - accuracy: 0.8591\n",
      "Epoch 26/100\n",
      "8000/8000 [==============================] - 1s 78us/sample - loss: 0.3401 - accuracy: 0.8630\n",
      "Epoch 27/100\n",
      "8000/8000 [==============================] - 1s 68us/sample - loss: 0.3399 - accuracy: 0.8593\n",
      "Epoch 28/100\n",
      "8000/8000 [==============================] - 1s 74us/sample - loss: 0.3391 - accuracy: 0.8616s - loss: 0.3415 \n",
      "Epoch 29/100\n",
      "8000/8000 [==============================] - 1s 66us/sample - loss: 0.3388 - accuracy: 0.8611\n",
      "Epoch 30/100\n",
      "8000/8000 [==============================] - 1s 77us/sample - loss: 0.3383 - accuracy: 0.8594\n",
      "Epoch 31/100\n",
      "8000/8000 [==============================] - 1s 69us/sample - loss: 0.3377 - accuracy: 0.8621\n",
      "Epoch 32/100\n",
      "8000/8000 [==============================] - 1s 76us/sample - loss: 0.3377 - accuracy: 0.8614\n",
      "Epoch 33/100\n",
      "8000/8000 [==============================] - 1s 67us/sample - loss: 0.3375 - accuracy: 0.8609\n",
      "Epoch 34/100\n",
      "8000/8000 [==============================] - 1s 74us/sample - loss: 0.3372 - accuracy: 0.8605\n",
      "Epoch 35/100\n",
      "8000/8000 [==============================] - 1s 66us/sample - loss: 0.3365 - accuracy: 0.8608\n",
      "Epoch 36/100\n",
      "8000/8000 [==============================] - 1s 73us/sample - loss: 0.3364 - accuracy: 0.8614\n",
      "Epoch 37/100\n",
      "8000/8000 [==============================] - 1s 66us/sample - loss: 0.3361 - accuracy: 0.8611\n",
      "Epoch 38/100\n",
      "8000/8000 [==============================] - 1s 71us/sample - loss: 0.3362 - accuracy: 0.8606\n",
      "Epoch 39/100\n",
      "8000/8000 [==============================] - 1s 66us/sample - loss: 0.3356 - accuracy: 0.8627\n",
      "Epoch 40/100\n",
      "8000/8000 [==============================] - 1s 72us/sample - loss: 0.3359 - accuracy: 0.8615\n",
      "Epoch 41/100\n",
      "8000/8000 [==============================] - 1s 67us/sample - loss: 0.3354 - accuracy: 0.8600\n",
      "Epoch 42/100\n",
      "8000/8000 [==============================] - 1s 74us/sample - loss: 0.3358 - accuracy: 0.8625\n",
      "Epoch 43/100\n",
      "8000/8000 [==============================] - 1s 66us/sample - loss: 0.3351 - accuracy: 0.8619\n",
      "Epoch 44/100\n",
      "8000/8000 [==============================] - 1s 71us/sample - loss: 0.3353 - accuracy: 0.8616\n",
      "Epoch 45/100\n",
      "8000/8000 [==============================] - 1s 67us/sample - loss: 0.3350 - accuracy: 0.8629\n",
      "Epoch 46/100\n",
      "8000/8000 [==============================] - 1s 70us/sample - loss: 0.3349 - accuracy: 0.8620\n",
      "Epoch 47/100\n",
      "8000/8000 [==============================] - 1s 68us/sample - loss: 0.3349 - accuracy: 0.8620\n",
      "Epoch 48/100\n",
      "8000/8000 [==============================] - 1s 86us/sample - loss: 0.3347 - accuracy: 0.8622\n",
      "Epoch 49/100\n",
      "8000/8000 [==============================] - 1s 69us/sample - loss: 0.3344 - accuracy: 0.8610\n",
      "Epoch 50/100\n",
      "8000/8000 [==============================] - 1s 77us/sample - loss: 0.3347 - accuracy: 0.8612\n",
      "Epoch 51/100\n",
      "8000/8000 [==============================] - 1s 71us/sample - loss: 0.3345 - accuracy: 0.8634\n",
      "Epoch 52/100\n",
      "8000/8000 [==============================] - 1s 75us/sample - loss: 0.3342 - accuracy: 0.8619\n",
      "Epoch 53/100\n",
      "8000/8000 [==============================] - 1s 71us/sample - loss: 0.3346 - accuracy: 0.8614s - loss: 0.3565 - \n",
      "Epoch 54/100\n",
      "8000/8000 [==============================] - 1s 76us/sample - loss: 0.3343 - accuracy: 0.8629\n",
      "Epoch 55/100\n",
      "8000/8000 [==============================] - 1s 69us/sample - loss: 0.3341 - accuracy: 0.8620\n",
      "Epoch 56/100\n",
      "8000/8000 [==============================] - 1s 82us/sample - loss: 0.3340 - accuracy: 0.8631\n",
      "Epoch 57/100\n",
      "8000/8000 [==============================] - 1s 70us/sample - loss: 0.3340 - accuracy: 0.8631\n",
      "Epoch 58/100\n",
      "8000/8000 [==============================] - 1s 82us/sample - loss: 0.3342 - accuracy: 0.8619\n",
      "Epoch 59/100\n",
      "8000/8000 [==============================] - 1s 77us/sample - loss: 0.3338 - accuracy: 0.8636\n",
      "Epoch 60/100\n",
      "8000/8000 [==============================] - 1s 87us/sample - loss: 0.3338 - accuracy: 0.8624\n",
      "Epoch 61/100\n",
      "8000/8000 [==============================] - 1s 76us/sample - loss: 0.3338 - accuracy: 0.8635\n",
      "Epoch 62/100\n",
      "8000/8000 [==============================] - 1s 88us/sample - loss: 0.3337 - accuracy: 0.8619\n",
      "Epoch 63/100\n",
      "8000/8000 [==============================] - 1s 70us/sample - loss: 0.3338 - accuracy: 0.8635\n",
      "Epoch 64/100\n",
      "8000/8000 [==============================] - ETA: 0s - loss: 0.3350 - accuracy: 0.86 - 1s 75us/sample - loss: 0.3336 - accuracy: 0.8631\n",
      "Epoch 65/100\n",
      "8000/8000 [==============================] - 1s 64us/sample - loss: 0.3336 - accuracy: 0.8640\n",
      "Epoch 66/100\n",
      "8000/8000 [==============================] - 1s 73us/sample - loss: 0.3336 - accuracy: 0.8634\n",
      "Epoch 67/100\n",
      "8000/8000 [==============================] - 1s 65us/sample - loss: 0.3338 - accuracy: 0.8633\n",
      "Epoch 68/100\n",
      "8000/8000 [==============================] - 1s 74us/sample - loss: 0.3336 - accuracy: 0.8639\n",
      "Epoch 69/100\n",
      "8000/8000 [==============================] - 1s 65us/sample - loss: 0.3338 - accuracy: 0.8635\n",
      "Epoch 70/100\n",
      "8000/8000 [==============================] - 1s 71us/sample - loss: 0.3336 - accuracy: 0.8635\n",
      "Epoch 71/100\n",
      "8000/8000 [==============================] - 1s 64us/sample - loss: 0.3335 - accuracy: 0.8637\n",
      "Epoch 72/100\n",
      "8000/8000 [==============================] - 1s 74us/sample - loss: 0.3332 - accuracy: 0.8645\n",
      "Epoch 73/100\n"
     ]
    },
    {
     "name": "stdout",
     "output_type": "stream",
     "text": [
      "8000/8000 [==============================] - 1s 66us/sample - loss: 0.3333 - accuracy: 0.8640\n",
      "Epoch 74/100\n",
      "8000/8000 [==============================] - 1s 70us/sample - loss: 0.3335 - accuracy: 0.8637\n",
      "Epoch 75/100\n",
      "8000/8000 [==============================] - 1s 65us/sample - loss: 0.3331 - accuracy: 0.8631\n",
      "Epoch 76/100\n",
      "8000/8000 [==============================] - 1s 64us/sample - loss: 0.3333 - accuracy: 0.8634\n",
      "Epoch 77/100\n",
      "8000/8000 [==============================] - 1s 74us/sample - loss: 0.3330 - accuracy: 0.8634\n",
      "Epoch 78/100\n",
      "8000/8000 [==============================] - 1s 64us/sample - loss: 0.3330 - accuracy: 0.8637\n",
      "Epoch 79/100\n",
      "8000/8000 [==============================] - 1s 70us/sample - loss: 0.3330 - accuracy: 0.8643\n",
      "Epoch 80/100\n",
      "8000/8000 [==============================] - 1s 64us/sample - loss: 0.3331 - accuracy: 0.8669\n",
      "Epoch 81/100\n",
      "8000/8000 [==============================] - 1s 73us/sample - loss: 0.3328 - accuracy: 0.8650\n",
      "Epoch 82/100\n",
      "8000/8000 [==============================] - 1s 64us/sample - loss: 0.3331 - accuracy: 0.8639\n",
      "Epoch 83/100\n",
      "8000/8000 [==============================] - 1s 70us/sample - loss: 0.3326 - accuracy: 0.8645\n",
      "Epoch 84/100\n",
      "8000/8000 [==============================] - 1s 65us/sample - loss: 0.3328 - accuracy: 0.8651\n",
      "Epoch 85/100\n",
      "8000/8000 [==============================] - 1s 73us/sample - loss: 0.3323 - accuracy: 0.8662\n",
      "Epoch 86/100\n",
      "8000/8000 [==============================] - 1s 68us/sample - loss: 0.3323 - accuracy: 0.8643\n",
      "Epoch 87/100\n",
      "8000/8000 [==============================] - 1s 73us/sample - loss: 0.3322 - accuracy: 0.8643\n",
      "Epoch 88/100\n",
      "8000/8000 [==============================] - 1s 65us/sample - loss: 0.3331 - accuracy: 0.8649\n",
      "Epoch 89/100\n",
      "8000/8000 [==============================] - 1s 71us/sample - loss: 0.3322 - accuracy: 0.8652\n",
      "Epoch 90/100\n",
      "8000/8000 [==============================] - 1s 66us/sample - loss: 0.3322 - accuracy: 0.8661\n",
      "Epoch 91/100\n",
      "8000/8000 [==============================] - 1s 73us/sample - loss: 0.3322 - accuracy: 0.8655\n",
      "Epoch 92/100\n",
      "8000/8000 [==============================] - 1s 63us/sample - loss: 0.3323 - accuracy: 0.8641\n",
      "Epoch 93/100\n",
      "8000/8000 [==============================] - 1s 72us/sample - loss: 0.3324 - accuracy: 0.8644\n",
      "Epoch 94/100\n",
      "8000/8000 [==============================] - 1s 64us/sample - loss: 0.3323 - accuracy: 0.8654\n",
      "Epoch 95/100\n",
      "8000/8000 [==============================] - 1s 68us/sample - loss: 0.3323 - accuracy: 0.8654\n",
      "Epoch 96/100\n",
      "8000/8000 [==============================] - 1s 68us/sample - loss: 0.3325 - accuracy: 0.8635\n",
      "Epoch 97/100\n",
      "8000/8000 [==============================] - 1s 64us/sample - loss: 0.3318 - accuracy: 0.8668\n",
      "Epoch 98/100\n",
      "8000/8000 [==============================] - 1s 71us/sample - loss: 0.3324 - accuracy: 0.8645\n",
      "Epoch 99/100\n",
      "8000/8000 [==============================] - 1s 64us/sample - loss: 0.3322 - accuracy: 0.8641\n",
      "Epoch 100/100\n",
      "8000/8000 [==============================] - 1s 71us/sample - loss: 0.3320 - accuracy: 0.8661\n"
     ]
    },
    {
     "data": {
      "text/plain": [
       "<tensorflow.python.keras.callbacks.History at 0x2481454ac48>"
      ]
     },
     "execution_count": 20,
     "metadata": {},
     "output_type": "execute_result"
    }
   ],
   "source": [
    "ann.fit(X_train, y_train, batch_size=32, epochs = 100)"
   ]
  },
  {
   "cell_type": "code",
   "execution_count": 21,
   "metadata": {},
   "outputs": [
    {
     "name": "stdout",
     "output_type": "stream",
     "text": [
      "[[False]]\n"
     ]
    }
   ],
   "source": [
    "# Anything has to be in double [[]] for predict.\n",
    "\n",
    "print(ann.predict(scalar.transform([[1,0,0,600,1,40,3,60000,2,1,1,50000]])) > 0.5)"
   ]
  },
  {
   "cell_type": "code",
   "execution_count": 29,
   "metadata": {},
   "outputs": [
    {
     "name": "stdout",
     "output_type": "stream",
     "text": [
      "[[False]]\n"
     ]
    }
   ],
   "source": [
    "# Another example\n",
    "\n",
    "print(ann.predict(scalar.transform([[0, 1, 0, 550, 1, 27, 1, 32000, 1, 0, 0, 28000]])) > 0.5)"
   ]
  },
  {
   "cell_type": "code",
   "execution_count": 30,
   "metadata": {},
   "outputs": [
    {
     "name": "stdout",
     "output_type": "stream",
     "text": [
      "[[0 0]\n",
      " [0 1]\n",
      " [0 0]\n",
      " ...\n",
      " [0 0]\n",
      " [0 0]\n",
      " [0 0]]\n"
     ]
    }
   ],
   "source": [
    "predictions = ann.predict(X_test)\n",
    "predictions = (predictions > 0.5)\n",
    "print(np.concatenate((predictions.reshape(len(predictions), 1), y_test.reshape(len(y_test), 1)), 1))"
   ]
  },
  {
   "cell_type": "code",
   "execution_count": null,
   "metadata": {},
   "outputs": [],
   "source": [
    "from sklearn.metrics import classification_report, confusion_matrix, accuracy_score\n",
    "print(classification_report(y_test, predictions))\n",
    "print(confusion_matrix(y_test, predictions))\n",
    "accuracy_score(y_test, predictions)"
   ]
  },
  {
   "cell_type": "code",
   "execution_count": null,
   "metadata": {},
   "outputs": [],
   "source": []
  }
 ],
 "metadata": {
  "kernelspec": {
   "display_name": "Python 3",
   "language": "python",
   "name": "python3"
  },
  "language_info": {
   "codemirror_mode": {
    "name": "ipython",
    "version": 3
   },
   "file_extension": ".py",
   "mimetype": "text/x-python",
   "name": "python",
   "nbconvert_exporter": "python",
   "pygments_lexer": "ipython3",
   "version": "3.7.6"
  }
 },
 "nbformat": 4,
 "nbformat_minor": 4
}
